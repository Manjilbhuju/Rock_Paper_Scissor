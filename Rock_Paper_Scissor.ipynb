{
 "cells": [
  {
   "cell_type": "code",
   "execution_count": null,
   "id": "20012e9f",
   "metadata": {},
   "outputs": [
    {
     "name": "stdout",
     "output_type": "stream",
     "text": [
      "Player Choices: rock, paper, scissor\n"
     ]
    }
   ],
   "source": [
    "print(\"Player Choices: rock, paper, scissor\")\n",
    "import random #importing random module\n",
    "while True:   #while loop to play infinitely until break\n",
    "    choices = [\"rock\", \"paper\", \"scissor\", \"boom\"]\n",
    "    computer = random.choice(choices)\n",
    "    player = None\n",
    "\n",
    "    while player not in choices:\n",
    "        player = input(\"rock, paper or scissor ?: \").lower()\n",
    "    #Nested if else statement\n",
    "    if computer == player :\n",
    "        print(\"computer: \", computer)\n",
    "        print(\"player: \", player)\n",
    "        print(\"DRAW\")\n",
    "    elif computer == \"boom\" :\n",
    "        print(\"computer: \", computer)\n",
    "        print(\"player: \", player)\n",
    "        print(\"You got BOOOOMED\")\n",
    "    elif player == \"rock\":\n",
    "        if computer == \"scissor\":\n",
    "            print(\"computer: \", computer)\n",
    "            print(\"player: \", player)\n",
    "            print(\"WIN\")\n",
    "        if computer == \"paper\":\n",
    "            print(\"computer: \", computer)\n",
    "            print(\"player: \", player)\n",
    "            print(\"LOSE\")\n",
    "    elif player == \"paper\":\n",
    "        if computer == \"scissor\":\n",
    "            print(\"computer: \", computer)\n",
    "            print(\"player: \", player)\n",
    "            print(\"LOSE\")\n",
    "        if computer == \"rock\":\n",
    "            print(\"computer: \", computer)\n",
    "            print(\"player: \", player)\n",
    "            print(\"WIN\")\n",
    "    elif player == \"scissor\":\n",
    "        if computer == \"rock\":\n",
    "            print(\"computer: \", computer)\n",
    "            print(\"player: \", player)\n",
    "            print(\"LOSE\")\n",
    "        if computer == \"paper\":\n",
    "            print(\"computer: \", computer)\n",
    "            print(\"player: \", player)\n",
    "            print(\"WIN\")\n",
    "    #creating variable to ask to play again\n",
    "    play_again = input(\"Do You Want To Play Again? (play/quit): \").lower()\n",
    "    \n",
    "    if play_again == \"quit\":\n",
    "        break #break point of while loop\n",
    "print(\"(: Thank you for Playing. :)\")"
   ]
  },
  {
   "cell_type": "code",
   "execution_count": null,
   "id": "ae59a0cd",
   "metadata": {},
   "outputs": [],
   "source": []
  }
 ],
 "metadata": {
  "kernelspec": {
   "display_name": "Python 3 (ipykernel)",
   "language": "python",
   "name": "python3"
  },
  "language_info": {
   "codemirror_mode": {
    "name": "ipython",
    "version": 3
   },
   "file_extension": ".py",
   "mimetype": "text/x-python",
   "name": "python",
   "nbconvert_exporter": "python",
   "pygments_lexer": "ipython3",
   "version": "3.9.13"
  }
 },
 "nbformat": 4,
 "nbformat_minor": 5
}
